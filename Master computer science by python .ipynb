{
 "cells": [
  {
   "cell_type": "code",
   "execution_count": 1,
   "id": "9c1480a2",
   "metadata": {},
   "outputs": [
    {
     "name": "stdout",
     "output_type": "stream",
     "text": [
      "0\n",
      "1\n",
      "2\n",
      "3\n",
      "4\n",
      "4\n"
     ]
    }
   ],
   "source": [
    "num = 10\n",
    "for num in range(5):\n",
    "    print(num)\n",
    "print(num)"
   ]
  },
  {
   "cell_type": "code",
   "execution_count": 2,
   "id": "b0a68180",
   "metadata": {},
   "outputs": [
    {
     "name": "stdout",
     "output_type": "stream",
     "text": [
      "0.0\n",
      "1.0\n",
      "2.0\n",
      "3.0\n",
      "4.0\n"
     ]
    }
   ],
   "source": [
    "divisor = 2\n",
    "for num in range(0, 10, 2):\n",
    "    print(num/divisor) "
   ]
  },
  {
   "cell_type": "code",
   "execution_count": 3,
   "id": "ac409166",
   "metadata": {},
   "outputs": [
    {
     "name": "stdout",
     "output_type": "stream",
     "text": [
      "0\n",
      "Foo!\n",
      "4\n",
      "8\n",
      "12\n",
      "16\n",
      "Foo!\n"
     ]
    }
   ],
   "source": [
    "for variable in range(20):\n",
    "    if variable % 4 == 0:\n",
    "        print(variable)\n",
    "    if variable % 16 == 0:\n",
    "        print('Foo!') "
   ]
  },
  {
   "cell_type": "code",
   "execution_count": 4,
   "id": "f0bd9c5f",
   "metadata": {},
   "outputs": [
    {
     "name": "stdout",
     "output_type": "stream",
     "text": [
      "h\n",
      "o\n",
      "l\n",
      "a\n"
     ]
    }
   ],
   "source": [
    "for letter in 'hola':\n",
    "    print(letter)  \n"
   ]
  },
  {
   "cell_type": "code",
   "execution_count": 5,
   "id": "0d249845",
   "metadata": {},
   "outputs": [
    {
     "name": "stdout",
     "output_type": "stream",
     "text": [
      "Letter # 0 is S\n",
      "1\n"
     ]
    }
   ],
   "source": [
    "count = 0\n",
    "for letter in 'Snow!':\n",
    "    print('Letter # ' + str(count) + ' is ' + str(letter))\n",
    "    count += 1\n",
    "    break\n",
    "print(count)"
   ]
  },
  {
   "cell_type": "code",
   "execution_count": 7,
   "id": "06083249",
   "metadata": {},
   "outputs": [
    {
     "name": "stdout",
     "output_type": "stream",
     "text": [
      "0.0\n",
      "1.0\n",
      "2.0\n",
      "3.0\n",
      "4.0\n"
     ]
    }
   ],
   "source": [
    "divisor = 2\n",
    "for num in range(0, 10, 2):\n",
    "    print(num/divisor) \n"
   ]
  },
  {
   "cell_type": "code",
   "execution_count": 8,
   "id": "f6c8f281",
   "metadata": {},
   "outputs": [
    {
     "name": "stdout",
     "output_type": "stream",
     "text": [
      "6\n",
      ".\n",
      "0\n",
      "0\n",
      "x\n",
      "done\n"
     ]
    }
   ],
   "source": [
    "myStr = '6.00x'\n",
    "\n",
    "for char in myStr:\n",
    "    print(char)\n",
    "\n",
    "print('done')"
   ]
  },
  {
   "cell_type": "code",
   "execution_count": 9,
   "id": "c1d32ada",
   "metadata": {},
   "outputs": [
    {
     "name": "stdout",
     "output_type": "stream",
     "text": [
      "H\n",
      "e\n",
      "e\n",
      "l\n",
      "l\n",
      "l\n",
      "o\n",
      "!\n",
      "!\n",
      "done\n"
     ]
    }
   ],
   "source": [
    "greeting = 'Hello!'\n",
    "count = 0\n",
    "\n",
    "for letter in greeting:\n",
    "    count += 1\n",
    "    if count % 2 == 0:\n",
    "        print(letter)\n",
    "    print(letter)\n",
    "\n",
    "print('done')"
   ]
  },
  {
   "cell_type": "code",
   "execution_count": 10,
   "id": "f448fb20",
   "metadata": {},
   "outputs": [
    {
     "name": "stdout",
     "output_type": "stream",
     "text": [
      "M\n",
      "numVowels is: 11\n",
      "numCons is: -25\n"
     ]
    }
   ],
   "source": [
    "school = 'Massachusetts Institute of Technology'\n",
    "numVowels = 0\n",
    "numCons = 0\n",
    "\n",
    "for char in school:\n",
    "    if char == 'a' or char == 'e' or char == 'i' \\\n",
    "       or char == 'o' or char == 'u':\n",
    "        numVowels += 1\n",
    "    elif char == 'o' or char == 'M':\n",
    "        print(char)\n",
    "    else:\n",
    "        numCons -= 1\n",
    "\n",
    "print('numVowels is: ' + str(numVowels))\n",
    "print('numCons is: ' + str(numCons)) "
   ]
  },
  {
   "cell_type": "markdown",
   "id": "c4f7adf9",
   "metadata": {},
   "source": []
  },
  {
   "cell_type": "markdown",
   "id": "4b0b973b",
   "metadata": {},
   "source": [
    "# Poblem set Lvl 1\n",
    "Assume s is a string of lower case characters.\n",
    "\n",
    "Write a program that counts up the number of vowels contained in the string s. Valid vowels are: 'a', 'e', 'i', 'o', and 'u'. For example, if s = 'azcbobobegghakl', your program should print:\n",
    "\n"
   ]
  },
  {
   "cell_type": "code",
   "execution_count": null,
   "id": "c158505f",
   "metadata": {},
   "outputs": [],
   "source": []
  },
  {
   "cell_type": "code",
   "execution_count": 10,
   "id": "80246c11",
   "metadata": {},
   "outputs": [
    {
     "name": "stdout",
     "output_type": "stream",
     "text": [
      "vowels = 0\n"
     ]
    }
   ],
   "source": [
    "cou= 0\n",
    "for ch in \"s\" :\n",
    "    if ch ==\"a\" or ch ==\"e\" or ch == \"i\" or ch ==\"o\" or ch ==\"u\":\n",
    "        cou+=1\n",
    "    \n",
    "print (\"vowels = \" + str(cou))"
   ]
  },
  {
   "cell_type": "markdown",
   "id": "6842fa74",
   "metadata": {},
   "source": [
    "##### Write a program that prints the number of times the string 'bob' occurs in s. "
   ]
  },
  {
   "cell_type": "code",
   "execution_count": 16,
   "id": "07a1acc4",
   "metadata": {},
   "outputs": [
    {
     "name": "stdout",
     "output_type": "stream",
     "text": [
      "number of bob s = 2\n"
     ]
    }
   ],
   "source": [
    "s = \"akdmlkdnjnbobmdkmdbob\"\n",
    "cou= 0\n",
    "for chs in range(len(s)) :\n",
    "    if s[chs:chs+3] == \"bob\":\n",
    "        cou +=1\n",
    "    \n",
    "print (\"number of bob s = \" + str(cou))"
   ]
  },
  {
   "cell_type": "markdown",
   "id": "672fbec9",
   "metadata": {},
   "source": [
    "#### Write a program that prints the longest substring of s in which the letters occur in alphabetical order. "
   ]
  },
  {
   "cell_type": "code",
   "execution_count": 22,
   "id": "0621872f",
   "metadata": {},
   "outputs": [
    {
     "name": "stdout",
     "output_type": "stream",
     "text": [
      "The longest substring in alphabetical order is:dkm\n"
     ]
    }
   ],
   "source": [
    "s = \"akdmlkdnjnbobmdkmdbob\"\n",
    "maxlength = 0\n",
    "current = s[0]\n",
    "longest = s[0]\n",
    "\n",
    "for i in range(len(s) - 1):\n",
    "    if s[i+1] >= s[i]:\n",
    "        current += s[i+1]\n",
    "        if len(current) > maxlength:\n",
    "            maxlength = len(current)\n",
    "            longest = current\n",
    "    else:\n",
    "        current = s[i+1]\n",
    "    i+= 1\n",
    "print(\"The longest substring in alphabetical order is:\" + longest)"
   ]
  },
  {
   "cell_type": "markdown",
   "id": "223c02e4",
   "metadata": {},
   "source": [
    "#### try something cool\n"
   ]
  },
  {
   "cell_type": "code",
   "execution_count": 13,
   "id": "dc11d916",
   "metadata": {},
   "outputs": [],
   "source": [
    "s = \"Hello\""
   ]
  },
  {
   "cell_type": "code",
   "execution_count": 14,
   "id": "488cd3bc",
   "metadata": {},
   "outputs": [
    {
     "data": {
      "text/plain": [
       "'Hello'"
      ]
     },
     "execution_count": 14,
     "metadata": {},
     "output_type": "execute_result"
    }
   ],
   "source": [
    "s"
   ]
  },
  {
   "cell_type": "code",
   "execution_count": 15,
   "id": "9425e34e",
   "metadata": {},
   "outputs": [],
   "source": [
    "b= \"y\" + s[1:]"
   ]
  },
  {
   "cell_type": "code",
   "execution_count": 16,
   "id": "81e5a6b0",
   "metadata": {},
   "outputs": [
    {
     "data": {
      "text/plain": [
       "'yello'"
      ]
     },
     "execution_count": 16,
     "metadata": {},
     "output_type": "execute_result"
    }
   ],
   "source": [
    "b"
   ]
  },
  {
   "cell_type": "code",
   "execution_count": 24,
   "id": "3f077a52",
   "metadata": {},
   "outputs": [],
   "source": [
    "s = \"alskddiod\"\n"
   ]
  },
  {
   "cell_type": "code",
   "execution_count": 25,
   "id": "c2034a52",
   "metadata": {},
   "outputs": [
    {
     "name": "stdout",
     "output_type": "stream",
     "text": [
      "its here!\n"
     ]
    }
   ],
   "source": [
    "for index in range(len(s)):\n",
    "    if s[index]==\"o\" or s[index] ==\"u\":\n",
    "        print (\"its here!\")\n",
    "    "
   ]
  },
  {
   "cell_type": "code",
   "execution_count": null,
   "id": "2317dfa5",
   "metadata": {},
   "outputs": [],
   "source": []
  },
  {
   "cell_type": "code",
   "execution_count": 31,
   "id": "1f6a3df7",
   "metadata": {},
   "outputs": [
    {
     "name": "stdout",
     "output_type": "stream",
     "text": [
      "it's here\n"
     ]
    }
   ],
   "source": [
    "for ch in s:\n",
    "    if ch == \"o\" or ch == \"u\":\n",
    "        print (\"it's here\")"
   ]
  },
  {
   "cell_type": "code",
   "execution_count": null,
   "id": "46be813c",
   "metadata": {},
   "outputs": [],
   "source": []
  },
  {
   "cell_type": "markdown",
   "id": "24093780",
   "metadata": {},
   "source": [
    "#### Playing with loops"
   ]
  },
  {
   "cell_type": "code",
   "execution_count": 28,
   "id": "9dd608d8",
   "metadata": {},
   "outputs": [
    {
     "name": "stdout",
     "output_type": "stream",
     "text": [
      "Iteration 0; count is: 1\n",
      "Iteration 1; count is: 12\n",
      "Iteration 2; count is: 1\n",
      "Iteration 3; count is: 12\n",
      "Iteration 4; count is: 1\n"
     ]
    }
   ],
   "source": [
    "iteration = 0\n",
    "while iteration < 5:\n",
    "    count = 0\n",
    "    for letter in \"hello, world\":\n",
    "        count += 1\n",
    "        if iteration % 2 == 0:\n",
    "            break\n",
    "    print(\"Iteration \" + str(iteration) + \"; count is: \" + str(count))\n",
    "    iteration += 1 "
   ]
  },
  {
   "cell_type": "code",
   "execution_count": 29,
   "id": "27125f1b",
   "metadata": {},
   "outputs": [
    {
     "name": "stdout",
     "output_type": "stream",
     "text": [
      "Iteration 0; count is: 12\n",
      "Iteration 1; count is: 12\n",
      "Iteration 2; count is: 12\n",
      "Iteration 3; count is: 12\n",
      "Iteration 4; count is: 12\n"
     ]
    }
   ],
   "source": [
    "iteration = 0\n",
    "while iteration < 5:\n",
    "    count = 0\n",
    "    for letter in \"hello, world\":\n",
    "        count += 1\n",
    "    print(\"Iteration \" + str(iteration) + \"; count is: \" + str(count))\n",
    "    iteration += 1 "
   ]
  },
  {
   "cell_type": "code",
   "execution_count": 30,
   "id": "c118ea3d",
   "metadata": {},
   "outputs": [
    {
     "name": "stdout",
     "output_type": "stream",
     "text": [
      "Iteration 0; count is: 12\n",
      "Iteration 1; count is: 24\n",
      "Iteration 2; count is: 36\n",
      "Iteration 3; count is: 48\n",
      "Iteration 4; count is: 60\n"
     ]
    }
   ],
   "source": [
    "iteration = 0\n",
    "count = 0\n",
    "while iteration < 5:\n",
    "    # the variable 'letter' in the loop stands for every \n",
    "    # character, including spaces and commas!\n",
    "    for letter in \"hello, world\": \n",
    "        count += 1\n",
    "    print(\"Iteration \" + str(iteration) + \"; count is: \" + str(count))\n",
    "    iteration += 1 "
   ]
  },
  {
   "cell_type": "code",
   "execution_count": null,
   "id": "28d49f76",
   "metadata": {},
   "outputs": [],
   "source": []
  }
 ],
 "metadata": {
  "kernelspec": {
   "display_name": "Python 3 (ipykernel)",
   "language": "python",
   "name": "python3"
  },
  "language_info": {
   "codemirror_mode": {
    "name": "ipython",
    "version": 3
   },
   "file_extension": ".py",
   "mimetype": "text/x-python",
   "name": "python",
   "nbconvert_exporter": "python",
   "pygments_lexer": "ipython3",
   "version": "3.9.12"
  }
 },
 "nbformat": 4,
 "nbformat_minor": 5
}
